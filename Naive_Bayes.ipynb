{
 "cells": [
  {
   "cell_type": "markdown",
   "metadata": {},
   "source": [
    "# Experimenting Naive Bayes for Sentiment Analysis#\n",
    "\n",
    "In this project, I'm working with the Naive Bayes to see how this performs on sentiment or activity predictions.\n",
    "\n",
    "- In one hand, I will build a Naive Bayes algorithm to decide whether I **will or won't go hiking** this weekend based on the weather during the last two months (8 weekends).\n",
    "\n",
    "- In the other hand, I will use the Naive Bayes model to predict if people **liked or didn't like** a restaurant based on words and expressions on the reviews data."
   ]
  },
  {
   "cell_type": "markdown",
   "metadata": {},
   "source": [
    "## 1. Am I going for a hike this weekend ? (or just staying home reading some comics ?)##\n",
    "\n",
    "Let's say the weather and my hiking decision were as follows:\n",
    "\n",
    "|Outlook|Temperature|Humidity|Windy|GO HIKING|\n",
    "|-------|-----------|--------|-----|---------|\n",
    "|Rainy|Hot|High|False|No|\n",
    "|Rainy|Mild|High|True|No|\n",
    "|Cloudy|Cool|Normal|False|Yes|\n",
    "|Sunny|Hot|Normal|False|Yes|\n",
    "|Sunny|Hot|High|False|No|\n",
    "|Cloudy|Mild|Normal|True|Yes|\n",
    "|Sunny|Cool|High|True|Yes|\n",
    "|Rainy|Cool|Normal|False|Yes|\n",
    "\n",
    "The weather forecast for this weekend shows that:\n",
    "- Outlook: Cloudy\n",
    "- Temperature: Hot\n",
    "- Humidity: Normal\n",
    "- Windy: False.\n",
    "\n",
    "Based on [Naive Bayes formula](https://en.wikipedia.org/wiki/Naive_Bayes_classifier), I have 4 features: x1 = \"cloudy\", x2 = \"cool\", x3 = \"high\", x4 = \"true\".\n",
    "\n",
    "I'm going to compare between **the probablity to go hiking given the weather condition this weekend P(yes|x1,x2,x3,x4)** and **the probabily NOT to go hiking given the weather condition this weekend P(no|x1,x2,x3,x4)**.\n",
    "\n",
    "THE NAIVE BAYES FORMULAE:\n",
    "\n",
    "P(yes|x1,x2,x3,x4) = P(yes) * P(x1|yes) * P(x2|yes) * P(x3|yes) * P(x4|yes)  /  P(x1,x2,x3,x4)   \n",
    "\n",
    "P(no|x1,x2,x3,x4) = P(no) * P(x1|no) * P(x2|no) * P(x3|no) * P(x4|no)  /  P(x1,x2,x3,x4)     \n",
    "\n",
    "If P(yes|x1,x2,x3,x4) > P(no|x1,x2,x3,x4), I'm going for a hike; otherwise I'm staying home."
   ]
  },
  {
   "cell_type": "code",
   "execution_count": 1,
   "metadata": {},
   "outputs": [],
   "source": [
    "# list of weather conditions and my decisions over the last 8 weekends\n",
    "weekends = [[\"rainy\", \"hot\", \"high\", \"false\", \"NO\"],\n",
    "            [\"rainy\", \"mild\", \"high\", \"true\", \"NO\"],\n",
    "            [\"cloudy\", \"cool\", \"normal\", \"false\", \"YES\"],\n",
    "            [\"sunny\", \"hot\", \"normal\", \"false\", \"YES\"],\n",
    "            [\"sunny\", \"hot\", \"high\", \"false\", \"NO\"],\n",
    "            [\"cloudy\", \"mild\", \"normal\", \"true\", \"YES\"],\n",
    "            [\"sunny\", \"cool\", \"high\", \"true\", \"YES\"],\n",
    "            [\"rainy\", \"cool\", \"normal\", \"false\", \"YES\"]]\n",
    "\n",
    "# the weather condition this weekend\n",
    "this_wk = [\"cloudy\", \"hot\", \"normal\", \"false\"]"
   ]
  },
  {
   "cell_type": "markdown",
   "metadata": {},
   "source": [
    "**Building the functions to calculate the Naive Bayes formulae**\n",
    "\n",
    "Let's say that the decisions \"yes\" and \"no\" are both called **y**.\n",
    "\n",
    "The NB Formula is generalized as : P(y|x1,x2,x3,x4) = P(y) * P(x1|y) * P(x2|y) * P(x3|y) * P(x4|y) / P(x1,x2,x3,x4)"
   ]
  },
  {
   "cell_type": "code",
   "execution_count": 2,
   "metadata": {},
   "outputs": [],
   "source": [
    "# the probability one decision were made over the last 8 weekends : P(y)\n",
    "def y_proba(y, weekends):\n",
    "    return len([w for w in weekends if w[4] == y]) / len(weekends)\n",
    "\n",
    "# the probability an outlook occurs given one decision: P(x1|y)\n",
    "def outlook_proba_given_y(x1, y, weekends):\n",
    "    return len([w for w in weekends if w[4] == y and w[0] == x1]) / len(weekends)\n",
    "\n",
    "# the probability a temperature occurs given one decision: P(x2|y)\n",
    "def temp_proba_given_y(x2, y, weekends):\n",
    "    return len([w for w in weekends if w[4] == y and w[1] == x2]) / len(weekends)\n",
    "\n",
    "# the probability a humidity occurs given one decision: P(x3|y)\n",
    "def humi_proba_given_y(x3, y, weekends):\n",
    "    return len([w for w in weekends if w[4] == y and w[2] == x3]) / len(weekends)\n",
    "\n",
    "# the probability it is windy or not given one decision: P(x4|y)\n",
    "def windy_proba_given_y(x4, y, weekends):\n",
    "    return len([w for w in weekends if w[4] == y and w[3] == x4]) / len(weekends)\n",
    "\n",
    "# the denominator = the probability that the weather condition this weekend happens given the last 8 weekends: P(x1,x2,x3,x4)\n",
    "denominator = len([w for w in weekends if \n",
    "                   w[0] == this_wk[0] \n",
    "                   and w[1] == this_wk[1] \n",
    "                   and w[2] == this_wk[2] \n",
    "                   and w[3] == this_wk[3]]) / len(weekends) "
   ]
  },
  {
   "cell_type": "markdown",
   "metadata": {},
   "source": [
    "As we can see, the combination of 4 weather features this weekend has never been happened over the last 2 months. Therefore, my denominator is definitely equal 0, hence **the \"division by 0\" problem**.\n",
    "\n",
    "To resolve this problem, I will use **Laplace smoothing** method: \n",
    "- adding 1 to the numerateur\n",
    "- adding the count of all (x1,x2,x3,x4) for one decision in `weekends` to the denominateur."
   ]
  },
  {
   "cell_type": "code",
   "execution_count": 3,
   "metadata": {},
   "outputs": [],
   "source": [
    "def count(y):\n",
    "    count = 0\n",
    "    for w in weekends:\n",
    "        if w[4] == y:\n",
    "            for i in range(4):\n",
    "                if w[i] == this_wk[i]:\n",
    "                    count += 1 \n",
    "    return count\n",
    "\n",
    "# ULTIMATELY, THE COMPLETE FORMULA IS:\n",
    "# decision_prob = ( y_proba(y,weekends) * outlook_proba_given_y(x1,y,weekends) \n",
    "#                  * temp_proba_given_y(x2,y,weekends)\n",
    "#                  * humi_proba_given_y(x3,y,weekends) \n",
    "#                  * windy_proba_given_y(x4,y,weekends) + 1 ) / (denominator + count(y))"
   ]
  },
  {
   "cell_type": "markdown",
   "metadata": {},
   "source": [
    "The probability that I said \"YES\" for a hike given the weather condition this weekend: **P(A|x1,x2,x3,x4)**"
   ]
  },
  {
   "cell_type": "code",
   "execution_count": 4,
   "metadata": {},
   "outputs": [
    {
     "data": {
      "text/plain": [
       "0.1003662109375"
      ]
     },
     "execution_count": 4,
     "metadata": {},
     "output_type": "execute_result"
    }
   ],
   "source": [
    "yes_prob = ( y_proba(\"YES\",weekends) \n",
    "            * outlook_proba_given_y(\"cloudy\",\"YES\",weekends) \n",
    "            * temp_proba_given_y(\"hot\",\"YES\",weekends)\n",
    "            * humi_proba_given_y(\"normal\",\"YES\",weekends) \n",
    "            * windy_proba_given_y(\"false\",\"YES\",weekends) + 1 ) / (denominator + count(\"YES\"))\n",
    "\n",
    "yes_prob"
   ]
  },
  {
   "cell_type": "markdown",
   "metadata": {},
   "source": [
    "The probability that I said \"NO\" for a hike given the weather condition this weekend: **P(B|x1,x2,x3,x4)**"
   ]
  },
  {
   "cell_type": "code",
   "execution_count": 5,
   "metadata": {},
   "outputs": [
    {
     "data": {
      "text/plain": [
       "0.25"
      ]
     },
     "execution_count": 5,
     "metadata": {},
     "output_type": "execute_result"
    }
   ],
   "source": [
    "no_prob = ( y_proba(\"NO\",weekends) \n",
    "            * outlook_proba_given_y(\"cloudy\",\"NO\",weekends) \n",
    "            * temp_proba_given_y(\"hot\",\"NO\",weekends)\n",
    "            * humi_proba_given_y(\"normal\",\"NO\",weekends) \n",
    "            * windy_proba_given_y(\"false\",\"NO\",weekends) + 1 ) / (denominator + count(\"NO\"))\n",
    "\n",
    "no_prob"
   ]
  },
  {
   "cell_type": "markdown",
   "metadata": {},
   "source": [
    "**Comparing the two probabilities and making decision**"
   ]
  },
  {
   "cell_type": "code",
   "execution_count": 6,
   "metadata": {},
   "outputs": [
    {
     "name": "stdout",
     "output_type": "stream",
     "text": [
      "Am I going for a hike this weekend?  NO\n"
     ]
    }
   ],
   "source": [
    "decision = \"YES\"\n",
    "if yes_prob < no_prob:\n",
    "    decision = \"NO\"\n",
    "print(\"Am I going for a hike this weekend?  %s\" % decision)"
   ]
  },
  {
   "cell_type": "markdown",
   "metadata": {},
   "source": [
    "Okay let's stay home and read some Marvels then ^^"
   ]
  },
  {
   "cell_type": "markdown",
   "metadata": {},
   "source": [
    "# 2. Restaurant reviews: You liked it or not ?#\n",
    "\n"
   ]
  },
  {
   "cell_type": "markdown",
   "metadata": {},
   "source": [
    "In this session, I'm working with the `Restaurant_Review.tsv` file containing 1000 reviews on a restaurant. The dataset can be download [here on Kaggle](https://www.kaggle.com/hj5992/restaurantreviews#Restaurant_Reviews.tsv).\n",
    "\n",
    "Binary classification: A review is classified as 1 if people **liked** the restaurant, and 0 if people **didn't like** it.\n",
    "\n",
    "I'm going to split the data set into 900 reviews for training and 100 reviews for testing.\n",
    "\n",
    "Next, I'm using the Naive Bayes model train and make predictions. Besides, a cross-validation split will be applied to make our data random."
   ]
  },
  {
   "cell_type": "markdown",
   "metadata": {},
   "source": [
    "**Reading the data**"
   ]
  },
  {
   "cell_type": "code",
   "execution_count": 7,
   "metadata": {},
   "outputs": [
    {
     "name": "stdout",
     "output_type": "stream",
     "text": [
      "1000\n"
     ]
    },
    {
     "data": {
      "text/html": [
       "<div>\n",
       "<style scoped>\n",
       "    .dataframe tbody tr th:only-of-type {\n",
       "        vertical-align: middle;\n",
       "    }\n",
       "\n",
       "    .dataframe tbody tr th {\n",
       "        vertical-align: top;\n",
       "    }\n",
       "\n",
       "    .dataframe thead th {\n",
       "        text-align: right;\n",
       "    }\n",
       "</style>\n",
       "<table border=\"1\" class=\"dataframe\">\n",
       "  <thead>\n",
       "    <tr style=\"text-align: right;\">\n",
       "      <th></th>\n",
       "      <th>Review</th>\n",
       "      <th>Liked</th>\n",
       "    </tr>\n",
       "  </thead>\n",
       "  <tbody>\n",
       "    <tr>\n",
       "      <th>0</th>\n",
       "      <td>Wow... Loved this place.</td>\n",
       "      <td>1</td>\n",
       "    </tr>\n",
       "    <tr>\n",
       "      <th>1</th>\n",
       "      <td>Crust is not good.</td>\n",
       "      <td>0</td>\n",
       "    </tr>\n",
       "    <tr>\n",
       "      <th>2</th>\n",
       "      <td>Not tasty and the texture was just nasty.</td>\n",
       "      <td>0</td>\n",
       "    </tr>\n",
       "    <tr>\n",
       "      <th>3</th>\n",
       "      <td>Stopped by during the late May bank holiday of...</td>\n",
       "      <td>1</td>\n",
       "    </tr>\n",
       "    <tr>\n",
       "      <th>4</th>\n",
       "      <td>The selection on the menu was great and so wer...</td>\n",
       "      <td>1</td>\n",
       "    </tr>\n",
       "  </tbody>\n",
       "</table>\n",
       "</div>"
      ],
      "text/plain": [
       "                                              Review  Liked\n",
       "0                           Wow... Loved this place.      1\n",
       "1                                 Crust is not good.      0\n",
       "2          Not tasty and the texture was just nasty.      0\n",
       "3  Stopped by during the late May bank holiday of...      1\n",
       "4  The selection on the menu was great and so wer...      1"
      ]
     },
     "execution_count": 7,
     "metadata": {},
     "output_type": "execute_result"
    }
   ],
   "source": [
    "import pandas as pd\n",
    "\n",
    "data = pd.read_csv('Restaurant_Reviews.tsv', delimiter='\\t')\n",
    "print(len(data))\n",
    "data.head()"
   ]
  },
  {
   "cell_type": "markdown",
   "metadata": {},
   "source": [
    "**Preprocessing the data**\n",
    "\n",
    "Because my interest is only **words**, so every stopwords, numeric and special characters need to be removed. Besides, each review will be normalized using the stemming approach."
   ]
  },
  {
   "cell_type": "code",
   "execution_count": 8,
   "metadata": {},
   "outputs": [
    {
     "data": {
      "text/plain": [
       "['wow love place',\n",
       " 'crust good',\n",
       " 'tasti textur nasti',\n",
       " 'stop late may bank holiday rick steve recommend love',\n",
       " 'select menu great price',\n",
       " 'get angri want damn pho',\n",
       " 'honeslti tast fresh',\n",
       " 'potato like rubber could tell made ahead time kept warmer',\n",
       " 'fri great',\n",
       " 'great touch']"
      ]
     },
     "execution_count": 8,
     "metadata": {},
     "output_type": "execute_result"
    }
   ],
   "source": [
    "import re\n",
    "import nltk\n",
    "from nltk.corpus import stopwords\n",
    "from nltk.stem.porter import PorterStemmer\n",
    "\n",
    "corpus = []\n",
    "for i in range(1000):\n",
    "    review = re.sub('[^a-zA-Z]', ' ', data['Review'][i])\n",
    "    review = review.lower().split()\n",
    "    ps = PorterStemmer()\n",
    "    review = [ps.stem(word) for word in review if word not in set(stopwords.words('english'))]\n",
    "    review = ' '.join(review)\n",
    "    corpus.append(review)\n",
    "\n",
    "# print the first 10 reviews to check\n",
    "corpus[:10]"
   ]
  },
  {
   "cell_type": "markdown",
   "metadata": {},
   "source": [
    "**Building and cross-validating the model**"
   ]
  },
  {
   "cell_type": "code",
   "execution_count": 9,
   "metadata": {},
   "outputs": [
    {
     "name": "stdout",
     "output_type": "stream",
     "text": [
      "accuracy score:  0.77\n",
      "multinomial NB area under curve: 0.7791666666666667\n"
     ]
    }
   ],
   "source": [
    "from sklearn.naive_bayes import MultinomialNB\n",
    "from sklearn.feature_extraction.text import CountVectorizer\n",
    "from sklearn.metrics import roc_curve, auc, accuracy_score\n",
    "from sklearn.model_selection import train_test_split\n",
    "import numpy as np\n",
    "\n",
    "np.random_seed = 3\n",
    "\n",
    "# generate counts from text using a vectorizer\n",
    "vectorizer = CountVectorizer(max_df=.05)\n",
    "X = vectorizer.fit_transform(corpus).toarray()\n",
    "y = data['Liked']\n",
    "\n",
    "# splitting the data into a training set and a test set\n",
    "X_train, X_test, y_train, y_test = train_test_split(X, y, test_size=0.1, random_state=40)\n",
    "\n",
    "# instantiate the Naive Bayes model, train and make predictions\n",
    "nb = MultinomialNB(alpha=1.0)\n",
    "nb.fit(X_train, y_train)\n",
    "\n",
    "predictions = nb.predict(X_test)\n",
    "\n",
    "accuracy = accuracy_score(y_test, predictions)\n",
    "print(\"accuracy score: \", accuracy)\n",
    "\n",
    "fpr, tpr, thresholds = roc_curve(y_test, predictions, pos_label=1)\n",
    "print(\"multinomial NB area under curve: {}\".format(auc(fpr,tpr)))"
   ]
  },
  {
   "cell_type": "markdown",
   "metadata": {},
   "source": [
    "We can see that the accuracy given on the test score is 77%. And the area under curve is roughly 78%."
   ]
  }
 ],
 "metadata": {
  "kernelspec": {
   "display_name": "Python 3",
   "language": "python",
   "name": "python3"
  },
  "language_info": {
   "codemirror_mode": {
    "name": "ipython",
    "version": 3
   },
   "file_extension": ".py",
   "mimetype": "text/x-python",
   "name": "python",
   "nbconvert_exporter": "python",
   "pygments_lexer": "ipython3",
   "version": "3.7.1"
  }
 },
 "nbformat": 4,
 "nbformat_minor": 2
}
